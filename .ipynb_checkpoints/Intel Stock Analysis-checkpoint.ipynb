{
 "cells": [
  {
   "cell_type": "code",
   "execution_count": 2,
   "metadata": {},
   "outputs": [],
   "source": [
    "import pandas as pd\n",
    "df = pd.read_csv(\"INTC.csv\")\n"
   ]
  },
  {
   "cell_type": "code",
   "execution_count": 3,
   "metadata": {},
   "outputs": [
    {
     "data": {
      "text/html": [
       "<div>\n",
       "<style scoped>\n",
       "    .dataframe tbody tr th:only-of-type {\n",
       "        vertical-align: middle;\n",
       "    }\n",
       "\n",
       "    .dataframe tbody tr th {\n",
       "        vertical-align: top;\n",
       "    }\n",
       "\n",
       "    .dataframe thead th {\n",
       "        text-align: right;\n",
       "    }\n",
       "</style>\n",
       "<table border=\"1\" class=\"dataframe\">\n",
       "  <thead>\n",
       "    <tr style=\"text-align: right;\">\n",
       "      <th></th>\n",
       "      <th>Date</th>\n",
       "      <th>Open</th>\n",
       "      <th>High</th>\n",
       "      <th>Low</th>\n",
       "      <th>Close</th>\n",
       "      <th>Adj Close</th>\n",
       "      <th>Volume</th>\n",
       "    </tr>\n",
       "  </thead>\n",
       "  <tbody>\n",
       "    <tr>\n",
       "      <th>0</th>\n",
       "      <td>1980-03-17</td>\n",
       "      <td>0.325521</td>\n",
       "      <td>0.330729</td>\n",
       "      <td>0.325521</td>\n",
       "      <td>0.325521</td>\n",
       "      <td>0.197055</td>\n",
       "      <td>10924800</td>\n",
       "    </tr>\n",
       "    <tr>\n",
       "      <th>1</th>\n",
       "      <td>1980-03-18</td>\n",
       "      <td>0.325521</td>\n",
       "      <td>0.328125</td>\n",
       "      <td>0.322917</td>\n",
       "      <td>0.322917</td>\n",
       "      <td>0.195479</td>\n",
       "      <td>17068800</td>\n",
       "    </tr>\n",
       "    <tr>\n",
       "      <th>2</th>\n",
       "      <td>1980-03-19</td>\n",
       "      <td>0.330729</td>\n",
       "      <td>0.335938</td>\n",
       "      <td>0.330729</td>\n",
       "      <td>0.330729</td>\n",
       "      <td>0.200208</td>\n",
       "      <td>18508800</td>\n",
       "    </tr>\n",
       "    <tr>\n",
       "      <th>3</th>\n",
       "      <td>1980-03-20</td>\n",
       "      <td>0.330729</td>\n",
       "      <td>0.334635</td>\n",
       "      <td>0.329427</td>\n",
       "      <td>0.329427</td>\n",
       "      <td>0.199420</td>\n",
       "      <td>11174400</td>\n",
       "    </tr>\n",
       "    <tr>\n",
       "      <th>4</th>\n",
       "      <td>1980-03-21</td>\n",
       "      <td>0.322917</td>\n",
       "      <td>0.322917</td>\n",
       "      <td>0.317708</td>\n",
       "      <td>0.317708</td>\n",
       "      <td>0.192325</td>\n",
       "      <td>12172800</td>\n",
       "    </tr>\n",
       "    <tr>\n",
       "      <th>...</th>\n",
       "      <td>...</td>\n",
       "      <td>...</td>\n",
       "      <td>...</td>\n",
       "      <td>...</td>\n",
       "      <td>...</td>\n",
       "      <td>...</td>\n",
       "      <td>...</td>\n",
       "    </tr>\n",
       "    <tr>\n",
       "      <th>10481</th>\n",
       "      <td>2021-10-08</td>\n",
       "      <td>54.549999</td>\n",
       "      <td>54.580002</td>\n",
       "      <td>53.700001</td>\n",
       "      <td>53.810001</td>\n",
       "      <td>53.810001</td>\n",
       "      <td>16064100</td>\n",
       "    </tr>\n",
       "    <tr>\n",
       "      <th>10482</th>\n",
       "      <td>2021-10-11</td>\n",
       "      <td>53.810001</td>\n",
       "      <td>54.410000</td>\n",
       "      <td>53.419998</td>\n",
       "      <td>53.439999</td>\n",
       "      <td>53.439999</td>\n",
       "      <td>14398800</td>\n",
       "    </tr>\n",
       "    <tr>\n",
       "      <th>10483</th>\n",
       "      <td>2021-10-12</td>\n",
       "      <td>53.570000</td>\n",
       "      <td>53.720001</td>\n",
       "      <td>52.009998</td>\n",
       "      <td>52.169998</td>\n",
       "      <td>52.169998</td>\n",
       "      <td>32784300</td>\n",
       "    </tr>\n",
       "    <tr>\n",
       "      <th>10484</th>\n",
       "      <td>2021-10-13</td>\n",
       "      <td>52.380001</td>\n",
       "      <td>52.580002</td>\n",
       "      <td>51.869999</td>\n",
       "      <td>52.259998</td>\n",
       "      <td>52.259998</td>\n",
       "      <td>18534000</td>\n",
       "    </tr>\n",
       "    <tr>\n",
       "      <th>10485</th>\n",
       "      <td>2021-10-14</td>\n",
       "      <td>52.900002</td>\n",
       "      <td>54.000000</td>\n",
       "      <td>52.730000</td>\n",
       "      <td>53.900002</td>\n",
       "      <td>53.900002</td>\n",
       "      <td>26567900</td>\n",
       "    </tr>\n",
       "  </tbody>\n",
       "</table>\n",
       "<p>10486 rows × 7 columns</p>\n",
       "</div>"
      ],
      "text/plain": [
       "             Date       Open       High        Low      Close  Adj Close  \\\n",
       "0      1980-03-17   0.325521   0.330729   0.325521   0.325521   0.197055   \n",
       "1      1980-03-18   0.325521   0.328125   0.322917   0.322917   0.195479   \n",
       "2      1980-03-19   0.330729   0.335938   0.330729   0.330729   0.200208   \n",
       "3      1980-03-20   0.330729   0.334635   0.329427   0.329427   0.199420   \n",
       "4      1980-03-21   0.322917   0.322917   0.317708   0.317708   0.192325   \n",
       "...           ...        ...        ...        ...        ...        ...   \n",
       "10481  2021-10-08  54.549999  54.580002  53.700001  53.810001  53.810001   \n",
       "10482  2021-10-11  53.810001  54.410000  53.419998  53.439999  53.439999   \n",
       "10483  2021-10-12  53.570000  53.720001  52.009998  52.169998  52.169998   \n",
       "10484  2021-10-13  52.380001  52.580002  51.869999  52.259998  52.259998   \n",
       "10485  2021-10-14  52.900002  54.000000  52.730000  53.900002  53.900002   \n",
       "\n",
       "         Volume  \n",
       "0      10924800  \n",
       "1      17068800  \n",
       "2      18508800  \n",
       "3      11174400  \n",
       "4      12172800  \n",
       "...         ...  \n",
       "10481  16064100  \n",
       "10482  14398800  \n",
       "10483  32784300  \n",
       "10484  18534000  \n",
       "10485  26567900  \n",
       "\n",
       "[10486 rows x 7 columns]"
      ]
     },
     "execution_count": 3,
     "metadata": {},
     "output_type": "execute_result"
    }
   ],
   "source": [
    "df"
   ]
  },
  {
   "cell_type": "code",
   "execution_count": 4,
   "metadata": {},
   "outputs": [
    {
     "data": {
      "text/plain": [
       "Date          object\n",
       "Open         float64\n",
       "High         float64\n",
       "Low          float64\n",
       "Close        float64\n",
       "Adj Close    float64\n",
       "Volume         int64\n",
       "dtype: object"
      ]
     },
     "execution_count": 4,
     "metadata": {},
     "output_type": "execute_result"
    }
   ],
   "source": [
    "df.dtypes"
   ]
  },
  {
   "cell_type": "code",
   "execution_count": 12,
   "metadata": {},
   "outputs": [],
   "source": [
    "import datetime\n",
    "\n",
    "currentStocks = df[(df['Date']>'2021-1-1') & (df['Date']<'2022-3-1')] \n",
    "Stocksin2020 = df[(df['Date']>'2020-1-1') & (df['Date']<'2021-3-1')] "
   ]
  },
  {
   "cell_type": "code",
   "execution_count": 11,
   "metadata": {},
   "outputs": [
    {
     "data": {
      "text/html": [
       "<div>\n",
       "<style scoped>\n",
       "    .dataframe tbody tr th:only-of-type {\n",
       "        vertical-align: middle;\n",
       "    }\n",
       "\n",
       "    .dataframe tbody tr th {\n",
       "        vertical-align: top;\n",
       "    }\n",
       "\n",
       "    .dataframe thead th {\n",
       "        text-align: right;\n",
       "    }\n",
       "</style>\n",
       "<table border=\"1\" class=\"dataframe\">\n",
       "  <thead>\n",
       "    <tr style=\"text-align: right;\">\n",
       "      <th></th>\n",
       "      <th>Date</th>\n",
       "      <th>Open</th>\n",
       "      <th>High</th>\n",
       "      <th>Low</th>\n",
       "      <th>Close</th>\n",
       "      <th>Adj Close</th>\n",
       "      <th>Volume</th>\n",
       "    </tr>\n",
       "  </thead>\n",
       "  <tbody>\n",
       "    <tr>\n",
       "      <th>10476</th>\n",
       "      <td>2021-10-01</td>\n",
       "      <td>53.650002</td>\n",
       "      <td>54.110001</td>\n",
       "      <td>53.049999</td>\n",
       "      <td>53.860001</td>\n",
       "      <td>53.860001</td>\n",
       "      <td>19895100</td>\n",
       "    </tr>\n",
       "    <tr>\n",
       "      <th>10477</th>\n",
       "      <td>2021-10-04</td>\n",
       "      <td>53.930000</td>\n",
       "      <td>54.330002</td>\n",
       "      <td>53.080002</td>\n",
       "      <td>53.470001</td>\n",
       "      <td>53.470001</td>\n",
       "      <td>27353300</td>\n",
       "    </tr>\n",
       "    <tr>\n",
       "      <th>10478</th>\n",
       "      <td>2021-10-05</td>\n",
       "      <td>53.549999</td>\n",
       "      <td>54.340000</td>\n",
       "      <td>53.480000</td>\n",
       "      <td>53.950001</td>\n",
       "      <td>53.950001</td>\n",
       "      <td>18129400</td>\n",
       "    </tr>\n",
       "    <tr>\n",
       "      <th>10479</th>\n",
       "      <td>2021-10-06</td>\n",
       "      <td>53.480000</td>\n",
       "      <td>54.070000</td>\n",
       "      <td>53.070000</td>\n",
       "      <td>53.980000</td>\n",
       "      <td>53.980000</td>\n",
       "      <td>20059600</td>\n",
       "    </tr>\n",
       "    <tr>\n",
       "      <th>10480</th>\n",
       "      <td>2021-10-07</td>\n",
       "      <td>54.320000</td>\n",
       "      <td>54.990002</td>\n",
       "      <td>54.119999</td>\n",
       "      <td>54.180000</td>\n",
       "      <td>54.180000</td>\n",
       "      <td>20704400</td>\n",
       "    </tr>\n",
       "    <tr>\n",
       "      <th>10481</th>\n",
       "      <td>2021-10-08</td>\n",
       "      <td>54.549999</td>\n",
       "      <td>54.580002</td>\n",
       "      <td>53.700001</td>\n",
       "      <td>53.810001</td>\n",
       "      <td>53.810001</td>\n",
       "      <td>16064100</td>\n",
       "    </tr>\n",
       "    <tr>\n",
       "      <th>10482</th>\n",
       "      <td>2021-10-11</td>\n",
       "      <td>53.810001</td>\n",
       "      <td>54.410000</td>\n",
       "      <td>53.419998</td>\n",
       "      <td>53.439999</td>\n",
       "      <td>53.439999</td>\n",
       "      <td>14398800</td>\n",
       "    </tr>\n",
       "    <tr>\n",
       "      <th>10483</th>\n",
       "      <td>2021-10-12</td>\n",
       "      <td>53.570000</td>\n",
       "      <td>53.720001</td>\n",
       "      <td>52.009998</td>\n",
       "      <td>52.169998</td>\n",
       "      <td>52.169998</td>\n",
       "      <td>32784300</td>\n",
       "    </tr>\n",
       "    <tr>\n",
       "      <th>10484</th>\n",
       "      <td>2021-10-13</td>\n",
       "      <td>52.380001</td>\n",
       "      <td>52.580002</td>\n",
       "      <td>51.869999</td>\n",
       "      <td>52.259998</td>\n",
       "      <td>52.259998</td>\n",
       "      <td>18534000</td>\n",
       "    </tr>\n",
       "    <tr>\n",
       "      <th>10485</th>\n",
       "      <td>2021-10-14</td>\n",
       "      <td>52.900002</td>\n",
       "      <td>54.000000</td>\n",
       "      <td>52.730000</td>\n",
       "      <td>53.900002</td>\n",
       "      <td>53.900002</td>\n",
       "      <td>26567900</td>\n",
       "    </tr>\n",
       "  </tbody>\n",
       "</table>\n",
       "</div>"
      ],
      "text/plain": [
       "             Date       Open       High        Low      Close  Adj Close  \\\n",
       "10476  2021-10-01  53.650002  54.110001  53.049999  53.860001  53.860001   \n",
       "10477  2021-10-04  53.930000  54.330002  53.080002  53.470001  53.470001   \n",
       "10478  2021-10-05  53.549999  54.340000  53.480000  53.950001  53.950001   \n",
       "10479  2021-10-06  53.480000  54.070000  53.070000  53.980000  53.980000   \n",
       "10480  2021-10-07  54.320000  54.990002  54.119999  54.180000  54.180000   \n",
       "10481  2021-10-08  54.549999  54.580002  53.700001  53.810001  53.810001   \n",
       "10482  2021-10-11  53.810001  54.410000  53.419998  53.439999  53.439999   \n",
       "10483  2021-10-12  53.570000  53.720001  52.009998  52.169998  52.169998   \n",
       "10484  2021-10-13  52.380001  52.580002  51.869999  52.259998  52.259998   \n",
       "10485  2021-10-14  52.900002  54.000000  52.730000  53.900002  53.900002   \n",
       "\n",
       "         Volume  \n",
       "10476  19895100  \n",
       "10477  27353300  \n",
       "10478  18129400  \n",
       "10479  20059600  \n",
       "10480  20704400  \n",
       "10481  16064100  \n",
       "10482  14398800  \n",
       "10483  32784300  \n",
       "10484  18534000  \n",
       "10485  26567900  "
      ]
     },
     "execution_count": 11,
     "metadata": {},
     "output_type": "execute_result"
    }
   ],
   "source": [
    "currentStocks"
   ]
  },
  {
   "cell_type": "code",
   "execution_count": 13,
   "metadata": {},
   "outputs": [
    {
     "data": {
      "text/html": [
       "<div>\n",
       "<style scoped>\n",
       "    .dataframe tbody tr th:only-of-type {\n",
       "        vertical-align: middle;\n",
       "    }\n",
       "\n",
       "    .dataframe tbody tr th {\n",
       "        vertical-align: top;\n",
       "    }\n",
       "\n",
       "    .dataframe thead th {\n",
       "        text-align: right;\n",
       "    }\n",
       "</style>\n",
       "<table border=\"1\" class=\"dataframe\">\n",
       "  <thead>\n",
       "    <tr style=\"text-align: right;\">\n",
       "      <th></th>\n",
       "      <th>Date</th>\n",
       "      <th>Open</th>\n",
       "      <th>High</th>\n",
       "      <th>Low</th>\n",
       "      <th>Close</th>\n",
       "      <th>Adj Close</th>\n",
       "      <th>Volume</th>\n",
       "    </tr>\n",
       "  </thead>\n",
       "  <tbody>\n",
       "    <tr>\n",
       "      <th>10224</th>\n",
       "      <td>2020-10-01</td>\n",
       "      <td>52.400002</td>\n",
       "      <td>52.720001</td>\n",
       "      <td>51.990002</td>\n",
       "      <td>52.240002</td>\n",
       "      <td>50.903530</td>\n",
       "      <td>22127600</td>\n",
       "    </tr>\n",
       "    <tr>\n",
       "      <th>10225</th>\n",
       "      <td>2020-10-02</td>\n",
       "      <td>51.500000</td>\n",
       "      <td>51.980000</td>\n",
       "      <td>50.990002</td>\n",
       "      <td>51.009998</td>\n",
       "      <td>49.704994</td>\n",
       "      <td>25811800</td>\n",
       "    </tr>\n",
       "    <tr>\n",
       "      <th>10226</th>\n",
       "      <td>2020-10-05</td>\n",
       "      <td>51.299999</td>\n",
       "      <td>51.810001</td>\n",
       "      <td>51.270000</td>\n",
       "      <td>51.689999</td>\n",
       "      <td>50.367596</td>\n",
       "      <td>20883200</td>\n",
       "    </tr>\n",
       "    <tr>\n",
       "      <th>10227</th>\n",
       "      <td>2020-10-06</td>\n",
       "      <td>51.709999</td>\n",
       "      <td>52.700001</td>\n",
       "      <td>51.230000</td>\n",
       "      <td>51.369999</td>\n",
       "      <td>50.055782</td>\n",
       "      <td>25642800</td>\n",
       "    </tr>\n",
       "    <tr>\n",
       "      <th>10228</th>\n",
       "      <td>2020-10-07</td>\n",
       "      <td>51.849998</td>\n",
       "      <td>52.900002</td>\n",
       "      <td>51.790001</td>\n",
       "      <td>52.669998</td>\n",
       "      <td>51.322521</td>\n",
       "      <td>21978700</td>\n",
       "    </tr>\n",
       "    <tr>\n",
       "      <th>...</th>\n",
       "      <td>...</td>\n",
       "      <td>...</td>\n",
       "      <td>...</td>\n",
       "      <td>...</td>\n",
       "      <td>...</td>\n",
       "      <td>...</td>\n",
       "      <td>...</td>\n",
       "    </tr>\n",
       "    <tr>\n",
       "      <th>10481</th>\n",
       "      <td>2021-10-08</td>\n",
       "      <td>54.549999</td>\n",
       "      <td>54.580002</td>\n",
       "      <td>53.700001</td>\n",
       "      <td>53.810001</td>\n",
       "      <td>53.810001</td>\n",
       "      <td>16064100</td>\n",
       "    </tr>\n",
       "    <tr>\n",
       "      <th>10482</th>\n",
       "      <td>2021-10-11</td>\n",
       "      <td>53.810001</td>\n",
       "      <td>54.410000</td>\n",
       "      <td>53.419998</td>\n",
       "      <td>53.439999</td>\n",
       "      <td>53.439999</td>\n",
       "      <td>14398800</td>\n",
       "    </tr>\n",
       "    <tr>\n",
       "      <th>10483</th>\n",
       "      <td>2021-10-12</td>\n",
       "      <td>53.570000</td>\n",
       "      <td>53.720001</td>\n",
       "      <td>52.009998</td>\n",
       "      <td>52.169998</td>\n",
       "      <td>52.169998</td>\n",
       "      <td>32784300</td>\n",
       "    </tr>\n",
       "    <tr>\n",
       "      <th>10484</th>\n",
       "      <td>2021-10-13</td>\n",
       "      <td>52.380001</td>\n",
       "      <td>52.580002</td>\n",
       "      <td>51.869999</td>\n",
       "      <td>52.259998</td>\n",
       "      <td>52.259998</td>\n",
       "      <td>18534000</td>\n",
       "    </tr>\n",
       "    <tr>\n",
       "      <th>10485</th>\n",
       "      <td>2021-10-14</td>\n",
       "      <td>52.900002</td>\n",
       "      <td>54.000000</td>\n",
       "      <td>52.730000</td>\n",
       "      <td>53.900002</td>\n",
       "      <td>53.900002</td>\n",
       "      <td>26567900</td>\n",
       "    </tr>\n",
       "  </tbody>\n",
       "</table>\n",
       "<p>262 rows × 7 columns</p>\n",
       "</div>"
      ],
      "text/plain": [
       "             Date       Open       High        Low      Close  Adj Close  \\\n",
       "10224  2020-10-01  52.400002  52.720001  51.990002  52.240002  50.903530   \n",
       "10225  2020-10-02  51.500000  51.980000  50.990002  51.009998  49.704994   \n",
       "10226  2020-10-05  51.299999  51.810001  51.270000  51.689999  50.367596   \n",
       "10227  2020-10-06  51.709999  52.700001  51.230000  51.369999  50.055782   \n",
       "10228  2020-10-07  51.849998  52.900002  51.790001  52.669998  51.322521   \n",
       "...           ...        ...        ...        ...        ...        ...   \n",
       "10481  2021-10-08  54.549999  54.580002  53.700001  53.810001  53.810001   \n",
       "10482  2021-10-11  53.810001  54.410000  53.419998  53.439999  53.439999   \n",
       "10483  2021-10-12  53.570000  53.720001  52.009998  52.169998  52.169998   \n",
       "10484  2021-10-13  52.380001  52.580002  51.869999  52.259998  52.259998   \n",
       "10485  2021-10-14  52.900002  54.000000  52.730000  53.900002  53.900002   \n",
       "\n",
       "         Volume  \n",
       "10224  22127600  \n",
       "10225  25811800  \n",
       "10226  20883200  \n",
       "10227  25642800  \n",
       "10228  21978700  \n",
       "...         ...  \n",
       "10481  16064100  \n",
       "10482  14398800  \n",
       "10483  32784300  \n",
       "10484  18534000  \n",
       "10485  26567900  \n",
       "\n",
       "[262 rows x 7 columns]"
      ]
     },
     "execution_count": 13,
     "metadata": {},
     "output_type": "execute_result"
    }
   ],
   "source": [
    "Stocksin2020"
   ]
  },
  {
   "cell_type": "code",
   "execution_count": 22,
   "metadata": {},
   "outputs": [
    {
     "data": {
      "image/png": "[encoded data removed]",
      "text/plain": [
       "<Figure size 432x288 with 1 Axes>"
      ]
     },
     "metadata": {
      "needs_background": "light"
     },
     "output_type": "display_data"
    }
   ],
   "source": [
    "#Volume measures the number of shares traded in a stock or contracts\n",
    "#traded in futures or options.\n",
    "\n",
    "openPlot = df.plot(label='Open')"
   ]
  },
  {
   "cell_type": "code",
   "execution_count": 26,
   "metadata": {},
   "outputs": [
    {
     "data": {
      "text/plain": [
       "<matplotlib.axes._subplots.AxesSubplot at 0x7fd33f6d54a8>"
      ]
     },
     "execution_count": 26,
     "metadata": {},
     "output_type": "execute_result"
    },
    {
     "data": {
      "image/png": "[encoded data removed]",
      "text/plain": [
       "<Figure size 432x288 with 1 Axes>"
      ]
     },
     "metadata": {
      "needs_background": "light"
     },
     "output_type": "display_data"
    }
   ],
   "source": [
    "df['Open'].plot(label='Open')"
   ]
  },
  {
   "cell_type": "code",
   "execution_count": 27,
   "metadata": {},
   "outputs": [
    {
     "data": {
      "text/plain": [
       "<matplotlib.axes._subplots.AxesSubplot at 0x7fd34056c0f0>"
      ]
     },
     "execution_count": 27,
     "metadata": {},
     "output_type": "execute_result"
    },
    {
     "data": {
      "image/png": "[encoded data removed]",
      "text/plain": [
       "<Figure size 432x288 with 1 Axes>"
      ]
     },
     "metadata": {
      "needs_background": "light"
     },
     "output_type": "display_data"
    }
   ],
   "source": [
    "currentStocks['Open'].plot(label='Open')"
   ]
  },
  {
   "cell_type": "code",
   "execution_count": 69,
   "metadata": {},
   "outputs": [],
   "source": [
    "#lets predict the intel stock in the future\n",
    "\n",
    "#For Prediction\n",
    "from sklearn.linear_model import LinearRegression\n",
    "from sklearn.model_selection import train_test_split\n",
    "from sklearn import preprocessing, svm\n",
    "\n",
    "#For Stock Data\n",
    "#from iexfinance import Stock\n",
    "#from iexfinance import get_historical_data\n",
    "\n",
    "import numpy as np\n",
    "\n",
    "df['Prediction'] = df['Close'].shift(-1)\n",
    "\n",
    "dfWithoutDate = df.drop(['Date'],1)\n",
    "\n",
    "X = np.array(dfWithoutDate.drop(['Prediction'], 1))\n",
    "Y = np.array(dfWithoutDate['Prediction'])\n",
    "\n",
    "#convert dat from string to float\n",
    "forecast_time = int(360)\n",
    "\n",
    "\n",
    "X = preprocessing.scale(X)\n",
    "X_prediction = X[-forecast_time:]\n"
   ]
  },
  {
   "cell_type": "code",
   "execution_count": 74,
   "metadata": {},
   "outputs": [],
   "source": [
    "# get the train and test datasets\n",
    "\n",
    "X_train, X_test, Y_train, Y_test = train_test_split(X, Y, test_size=0.5)"
   ]
  },
  {
   "cell_type": "code",
   "execution_count": 101,
   "metadata": {},
   "outputs": [],
   "source": [
    "# remove all nan values &&\n",
    "# remove all infinite values\n",
    "\n",
    "X_train = X_train[ np.isfinite( X_train ).all( axis = 1) ]\n",
    "X_test = X_train[ np.isfinite( X_test ).all( axis = 1) ]\n",
    "Y_train = X_train[ np.isfinite( Y_train ).all() ]\n",
    "Y_test = X_train[ np.isfinite( Y_test ).all()]\n",
    "\n",
    "#reshape the arrays from 3D to 2D\n",
    "\n",
    "nsamples, nx, ny = Y_train.shape\n",
    "Y_train = Y_train.reshape((nsamples,nx*ny))\n",
    "Y_test = Y_test.reshape((nsamples,nx*ny))"
   ]
  },
  {
   "cell_type": "code",
   "execution_count": 107,
   "metadata": {},
   "outputs": [
    {
     "data": {
      "text/plain": [
       "(1, 36701)"
      ]
     },
     "execution_count": 107,
     "metadata": {},
     "output_type": "execute_result"
    }
   ],
   "source": [
    "# check shapes of sets\n",
    "\n",
    "X_train.shape\n",
    "X_test.shape\n",
    "Y_train.shape\n",
    "Y_test.shape"
   ]
  },
  {
   "cell_type": "code",
   "execution_count": 102,
   "metadata": {},
   "outputs": [
    {
     "ename": "ValueError",
     "evalue": "Found input variables with inconsistent numbers of samples: [5243, 1]",
     "output_type": "error",
     "traceback": [
      "\u001b[0;31m---------------------------------------------------------------------------\u001b[0m",
      "\u001b[0;31mValueError\u001b[0m                                Traceback (most recent call last)",
      "\u001b[0;32m<ipython-input-102-384f1bfa6fd4>\u001b[0m in \u001b[0;36m<module>\u001b[0;34m\u001b[0m\n\u001b[1;32m      1\u001b[0m \u001b[0;31m#Performing the Regression on the training data\u001b[0m\u001b[0;34m\u001b[0m\u001b[0;34m\u001b[0m\u001b[0;34m\u001b[0m\u001b[0m\n\u001b[1;32m      2\u001b[0m \u001b[0mclf\u001b[0m \u001b[0;34m=\u001b[0m \u001b[0mLinearRegression\u001b[0m\u001b[0;34m(\u001b[0m\u001b[0;34m)\u001b[0m\u001b[0;34m\u001b[0m\u001b[0;34m\u001b[0m\u001b[0m\n\u001b[0;32m----> 3\u001b[0;31m \u001b[0mclf\u001b[0m\u001b[0;34m.\u001b[0m\u001b[0mfit\u001b[0m\u001b[0;34m(\u001b[0m\u001b[0mX_train\u001b[0m\u001b[0;34m,\u001b[0m \u001b[0mY_train\u001b[0m\u001b[0;34m)\u001b[0m\u001b[0;34m\u001b[0m\u001b[0;34m\u001b[0m\u001b[0m\n\u001b[0m\u001b[1;32m      4\u001b[0m \u001b[0mprediction\u001b[0m \u001b[0;34m=\u001b[0m \u001b[0;34m(\u001b[0m\u001b[0mclf\u001b[0m\u001b[0;34m.\u001b[0m\u001b[0mpredict\u001b[0m\u001b[0;34m(\u001b[0m\u001b[0mX_prediction\u001b[0m\u001b[0;34m)\u001b[0m\u001b[0;34m)\u001b[0m\u001b[0;34m\u001b[0m\u001b[0;34m\u001b[0m\u001b[0m\n",
      "\u001b[0;32m~/anaconda3/lib/python3.7/site-packages/sklearn/linear_model/base.py\u001b[0m in \u001b[0;36mfit\u001b[0;34m(self, X, y, sample_weight)\u001b[0m\n\u001b[1;32m    456\u001b[0m         \u001b[0mn_jobs_\u001b[0m \u001b[0;34m=\u001b[0m \u001b[0mself\u001b[0m\u001b[0;34m.\u001b[0m\u001b[0mn_jobs\u001b[0m\u001b[0;34m\u001b[0m\u001b[0;34m\u001b[0m\u001b[0m\n\u001b[1;32m    457\u001b[0m         X, y = check_X_y(X, y, accept_sparse=['csr', 'csc', 'coo'],\n\u001b[0;32m--> 458\u001b[0;31m                          y_numeric=True, multi_output=True)\n\u001b[0m\u001b[1;32m    459\u001b[0m \u001b[0;34m\u001b[0m\u001b[0m\n\u001b[1;32m    460\u001b[0m         \u001b[0;32mif\u001b[0m \u001b[0msample_weight\u001b[0m \u001b[0;32mis\u001b[0m \u001b[0;32mnot\u001b[0m \u001b[0;32mNone\u001b[0m \u001b[0;32mand\u001b[0m \u001b[0mnp\u001b[0m\u001b[0;34m.\u001b[0m\u001b[0matleast_1d\u001b[0m\u001b[0;34m(\u001b[0m\u001b[0msample_weight\u001b[0m\u001b[0;34m)\u001b[0m\u001b[0;34m.\u001b[0m\u001b[0mndim\u001b[0m \u001b[0;34m>\u001b[0m \u001b[0;36m1\u001b[0m\u001b[0;34m:\u001b[0m\u001b[0;34m\u001b[0m\u001b[0;34m\u001b[0m\u001b[0m\n",
      "\u001b[0;32m~/anaconda3/lib/python3.7/site-packages/sklearn/utils/validation.py\u001b[0m in \u001b[0;36mcheck_X_y\u001b[0;34m(X, y, accept_sparse, accept_large_sparse, dtype, order, copy, force_all_finite, ensure_2d, allow_nd, multi_output, ensure_min_samples, ensure_min_features, y_numeric, warn_on_dtype, estimator)\u001b[0m\n\u001b[1;32m    764\u001b[0m         \u001b[0my\u001b[0m \u001b[0;34m=\u001b[0m \u001b[0my\u001b[0m\u001b[0;34m.\u001b[0m\u001b[0mastype\u001b[0m\u001b[0;34m(\u001b[0m\u001b[0mnp\u001b[0m\u001b[0;34m.\u001b[0m\u001b[0mfloat64\u001b[0m\u001b[0;34m)\u001b[0m\u001b[0;34m\u001b[0m\u001b[0;34m\u001b[0m\u001b[0m\n\u001b[1;32m    765\u001b[0m \u001b[0;34m\u001b[0m\u001b[0m\n\u001b[0;32m--> 766\u001b[0;31m     \u001b[0mcheck_consistent_length\u001b[0m\u001b[0;34m(\u001b[0m\u001b[0mX\u001b[0m\u001b[0;34m,\u001b[0m \u001b[0my\u001b[0m\u001b[0;34m)\u001b[0m\u001b[0;34m\u001b[0m\u001b[0;34m\u001b[0m\u001b[0m\n\u001b[0m\u001b[1;32m    767\u001b[0m \u001b[0;34m\u001b[0m\u001b[0m\n\u001b[1;32m    768\u001b[0m     \u001b[0;32mreturn\u001b[0m \u001b[0mX\u001b[0m\u001b[0;34m,\u001b[0m \u001b[0my\u001b[0m\u001b[0;34m\u001b[0m\u001b[0;34m\u001b[0m\u001b[0m\n",
      "\u001b[0;32m~/anaconda3/lib/python3.7/site-packages/sklearn/utils/validation.py\u001b[0m in \u001b[0;36mcheck_consistent_length\u001b[0;34m(*arrays)\u001b[0m\n\u001b[1;32m    233\u001b[0m     \u001b[0;32mif\u001b[0m \u001b[0mlen\u001b[0m\u001b[0;34m(\u001b[0m\u001b[0muniques\u001b[0m\u001b[0;34m)\u001b[0m \u001b[0;34m>\u001b[0m \u001b[0;36m1\u001b[0m\u001b[0;34m:\u001b[0m\u001b[0;34m\u001b[0m\u001b[0;34m\u001b[0m\u001b[0m\n\u001b[1;32m    234\u001b[0m         raise ValueError(\"Found input variables with inconsistent numbers of\"\n\u001b[0;32m--> 235\u001b[0;31m                          \" samples: %r\" % [int(l) for l in lengths])\n\u001b[0m\u001b[1;32m    236\u001b[0m \u001b[0;34m\u001b[0m\u001b[0m\n\u001b[1;32m    237\u001b[0m \u001b[0;34m\u001b[0m\u001b[0m\n",
      "\u001b[0;31mValueError\u001b[0m: Found input variables with inconsistent numbers of samples: [5243, 1]"
     ]
    }
   ],
   "source": [
    "#Performing the Regression on the training data\n",
    "clf = LinearRegression()\n",
    "clf.fit(X_train, Y_train)\n",
    "prediction = (clf.predict(X_prediction))"
   ]
  },
  {
   "cell_type": "code",
   "execution_count": 93,
   "metadata": {},
   "outputs": [
    {
     "data": {
      "text/plain": [
       "array([[ 0.77889113,  0.82070448,  0.7936522 , ...,  0.39150849,\n",
       "        -0.14717204,  0.9335961 ],\n",
       "       [-0.964417  , -0.95495476, -0.96246073, ..., -0.8592504 ,\n",
       "         4.25327   , -0.94830238],\n",
       "       [ 0.71855479,  0.75622877,  0.73877019, ...,  0.37523945,\n",
       "         0.17244882,  0.78527616],\n",
       "       ...,\n",
       "       [ 0.58146621,  0.55910873,  0.55544118, ...,  0.46690209,\n",
       "        -0.27568765,  0.50303645],\n",
       "       [-0.64671552, -0.65172581, -0.65229013, ..., -0.65003259,\n",
       "        -0.33955461, -0.65310261],\n",
       "       [-1.07931755, -1.07907192, -1.0795349 , ..., -0.94665357,\n",
       "        -1.06762096, -1.07970227]])"
      ]
     },
     "execution_count": 93,
     "metadata": {},
     "output_type": "execute_result"
    }
   ],
   "source": []
  },
  {
   "cell_type": "code",
   "execution_count": null,
   "metadata": {},
   "outputs": [],
   "source": []
  }
 ],
 "metadata": {
  "kernelspec": {
   "display_name": "Python 3",
   "language": "python",
   "name": "python3"
  },
  "language_info": {
   "codemirror_mode": {
    "name": "ipython",
    "version": 3
   },
   "file_extension": ".py",
   "mimetype": "text/x-python",
   "name": "python",
   "nbconvert_exporter": "python",
   "pygments_lexer": "ipython3",
   "version": "3.7.1"
  }
 },
 "nbformat": 4,
 "nbformat_minor": 2
}
